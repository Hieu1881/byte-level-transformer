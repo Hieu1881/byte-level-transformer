{
 "cells": [
  {
   "cell_type": "code",
   "execution_count": 14,
   "id": "e599b8a5",
   "metadata": {},
   "outputs": [],
   "source": [
    "import torch"
   ]
  },
  {
   "cell_type": "code",
   "execution_count": 26,
   "id": "dff85da3",
   "metadata": {},
   "outputs": [
    {
     "name": "stdout",
     "output_type": "stream",
     "text": [
      "DatasetDict({\n",
      "    test: Dataset({\n",
      "        features: ['text'],\n",
      "        num_rows: 4358\n",
      "    })\n",
      "    train: Dataset({\n",
      "        features: ['text'],\n",
      "        num_rows: 36718\n",
      "    })\n",
      "    validation: Dataset({\n",
      "        features: ['text'],\n",
      "        num_rows: 3760\n",
      "    })\n",
      "})\n"
     ]
    }
   ],
   "source": [
    "from datasets import load_dataset\n",
    "\n",
    "ds = load_dataset(\"Salesforce/wikitext\", \"wikitext-2-raw-v1\")\n",
    "print(ds)\n",
    "\n"
   ]
  },
  {
   "cell_type": "code",
   "execution_count": 12,
   "id": "909b0f84",
   "metadata": {},
   "outputs": [],
   "source": [
    "dim= 256\n",
    "end= 100\n",
    "theta = 10000.0"
   ]
  },
  {
   "cell_type": "markdown",
   "id": "c2cc9ed4",
   "metadata": {},
   "source": []
  },
  {
   "cell_type": "code",
   "execution_count": 25,
   "id": "3a1357db",
   "metadata": {},
   "outputs": [
    {
     "data": {
      "text/plain": [
       "torch.Size([100, 128])"
      ]
     },
     "execution_count": 25,
     "metadata": {},
     "output_type": "execute_result"
    }
   ],
   "source": [
    "freqs = 1.0 / (theta ** (torch.arange(0, dim, 2)[: (dim // 2)].float() / dim))\n",
    "t = torch.arange(end)\n",
    "freqs = torch.outer(t,freqs)\n",
    "# cos, sin = freqs.cos(), freqs.sin()\n",
    "# freqs =  torch.stack((cos, -sin, sin, cos), dim=-1).view(*freqs.size(), 2, 2) #dim/2, 4*end -> head_dim/2, max_seqlen, 2,2\n",
    "freqs.shape"
   ]
  },
  {
   "cell_type": "code",
   "execution_count": 24,
   "id": "8ad372cb",
   "metadata": {},
   "outputs": [
    {
     "data": {
      "text/plain": [
       "torch.Size([5, 10])"
      ]
     },
     "execution_count": 24,
     "metadata": {},
     "output_type": "execute_result"
    }
   ],
   "source": [
    "t = torch.randn((5))\n",
    "v = torch.randn((10))\n",
    "out = torch.outer(t,v)\n",
    "out.shape"
   ]
  },
  {
   "cell_type": "code",
   "execution_count": null,
   "id": "ba1097d1",
   "metadata": {},
   "outputs": [
    {
     "data": {
      "text/plain": [
       "[72,\n",
       " 111,\n",
       " 119,\n",
       " 32,\n",
       " 97,\n",
       " 114,\n",
       " 101,\n",
       " 32,\n",
       " 121,\n",
       " 111,\n",
       " 117,\n",
       " 32,\n",
       " 116,\n",
       " 111,\n",
       " 100,\n",
       " 97,\n",
       " 121,\n",
       " 63]"
      ]
     },
     "execution_count": 3,
     "metadata": {},
     "output_type": "execute_result"
    }
   ],
   "source": [
    "texts= \"How are you today?\"\n",
    "byte_stream = bytes(texts, encoding='utf-8', errors=\"ignore\")\n",
    "byte_stream = list(byte_stream)\n",
    "byte_stream "
   ]
  }
 ],
 "metadata": {
  "kernelspec": {
   "display_name": "bytelm",
   "language": "python",
   "name": "python3"
  },
  "language_info": {
   "codemirror_mode": {
    "name": "ipython",
    "version": 3
   },
   "file_extension": ".py",
   "mimetype": "text/x-python",
   "name": "python",
   "nbconvert_exporter": "python",
   "pygments_lexer": "ipython3",
   "version": "3.10.18"
  }
 },
 "nbformat": 4,
 "nbformat_minor": 5
}
